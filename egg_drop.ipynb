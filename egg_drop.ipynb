{
 "cells": [
  {
   "cell_type": "markdown",
   "id": "56204ca5-856a-4f12-8531-d09626c6234c",
   "metadata": {},
   "source": [
    "## Problem:\n",
    "\n",
    "We've got a building with 100 floors. One specific floor is the highest point you can drop an egg from without it breaking. Drop it from any floor above, and... *crack*! But if dropped from that magical floor or any floor below it, the egg remains intact and can be dropped again.\n",
    "\n",
    "With just two eggs in hand, who can figure out the strategy to determine the highest safe floor with the fewest drops?"
   ]
  },
  {
   "cell_type": "markdown",
   "id": "0fbb014b-5309-421c-ada8-8da62d6e5c1f",
   "metadata": {},
   "source": [
    "## Methodology\n",
    "\n",
    "We have two eggs, but once the first one cracks, the only strategy that ensures we find the magic floor without cracking the second egg is to start at the floor just above the highest safe floor and move up one by one until we crack the egg. Therefore the following code just focusses on optimising the first guesses."
   ]
  },
  {
   "cell_type": "code",
   "execution_count": 107,
   "id": "70a110dc-513d-44d9-a192-f0511528e3bf",
   "metadata": {},
   "outputs": [],
   "source": [
    "from typing import List\n",
    "import random\n",
    "random.seed(42)"
   ]
  },
  {
   "cell_type": "code",
   "execution_count": 133,
   "id": "2c9bf1db-3ba8-4227-8c86-c8d33f406373",
   "metadata": {},
   "outputs": [],
   "source": [
    "def print_metrics(guesses: List[int]):\n",
    "    '''\n",
    "    Simulate guess strategy for all 100 magic floor scenarios and print summary metrics\n",
    "    '''\n",
    "    total_guesses = []    \n",
    "    for magic_floor in range(1, 101):\n",
    "        cur_guesses = []\n",
    "        prev_guess = 0\n",
    "        for guess in guesses:\n",
    "            cur_guesses.append(guess)\n",
    "            if guess <= magic_floor:\n",
    "                prev_guess = guess\n",
    "            else:\n",
    "                num_left_to_check = magic_floor - prev_guess\n",
    "                \n",
    "                if guess != magic_floor + 1:\n",
    "                    # We also need to the floor above the magic_floor\n",
    "                    num_left_to_check += 1\n",
    "                \n",
    "                total_guesses.append(len(cur_guesses) + num_left_to_check)\n",
    "                break\n",
    "                \n",
    "                \n",
    "    print(f\"Guesses: {guesses}, avg: {sum(total_guesses)/len(total_guesses):0.2f}, max: {max(total_guesses)}\")"
   ]
  },
  {
   "cell_type": "markdown",
   "id": "69ab22ad-3bb2-4fc3-916d-6cf2a8744fef",
   "metadata": {},
   "source": [
    "# Maths Solution"
   ]
  },
  {
   "cell_type": "markdown",
   "id": "18beb77c-0abb-4582-abbd-6f7b77f2b0c8",
   "metadata": {},
   "source": [
    "The mathematically optimal solution to reduce the max required drops is to use the triangle function x, x + (x-1), x + (x-1) + (x-2) ....  giving x=14"
   ]
  },
  {
   "cell_type": "code",
   "execution_count": 135,
   "id": "8388bbfc-6a3e-44a5-8cfd-cc8f4680fd3c",
   "metadata": {},
   "outputs": [
    {
     "name": "stdout",
     "output_type": "stream",
     "text": [
      "Guesses: [14, 27, 39, 50, 60, 69, 77, 84, 90, 95, 99, 102, 104, 105], avg: 10.48, max: 14\n"
     ]
    }
   ],
   "source": [
    "triangle_strategy = [sum([14 - i for i in range(j)]) for j in range(1, 15)]\n",
    "print_metrics(triangle_strategy)"
   ]
  },
  {
   "cell_type": "markdown",
   "id": "e4783fc7-4123-4e12-9fa5-725de1247ea5",
   "metadata": {},
   "source": [
    "# Reinforcement Learning Approach"
   ]
  },
  {
   "cell_type": "markdown",
   "id": "17d55353-919b-40d3-a43f-c45c897e018f",
   "metadata": {},
   "source": [
    "Q Learning: https://en.wikipedia.org/wiki/Q-learning"
   ]
  },
  {
   "cell_type": "code",
   "execution_count": 156,
   "id": "394c5d32-c9f5-4612-80f5-4b0ffc2d43da",
   "metadata": {},
   "outputs": [
    {
     "name": "stdout",
     "output_type": "stream",
     "text": [
      "Epoch 100000: Guesses: [45, 58, 97, 98, 99, 100], avg: 21.25, max: 45\n",
      "Epoch 200000: Guesses: [11, 19, 65, 73, 88, 94, 98, 100], avg: 17.32, max: 48\n",
      "Epoch 300000: Guesses: [8, 20, 34, 45, 52, 61, 71, 78, 85, 89, 93, 96, 99, 100], avg: 10.66, max: 16\n",
      "Epoch 400000: Guesses: [11, 19, 31, 39, 46, 54, 62, 68, 74, 85, 91, 94, 96, 99, 100], avg: 10.86, max: 20\n",
      "Epoch 500000: Guesses: [13, 26, 37, 46, 54, 63, 71, 77, 81, 86, 91, 94, 98, 100], avg: 10.47, max: 16\n",
      "Epoch 600000: Guesses: [12, 20, 32, 43, 52, 60, 68, 80, 85, 90, 94, 97, 99, 100], avg: 10.66, max: 19\n",
      "Epoch 700000: Guesses: [11, 21, 33, 38, 50, 59, 67, 73, 80, 85, 90, 94, 97, 99, 100], avg: 10.69, max: 16\n",
      "Epoch 800000: Guesses: [11, 26, 37, 47, 54, 61, 67, 73, 80, 85, 91, 95, 97, 99, 100], avg: 10.57, max: 16\n",
      "Epoch 900000: Guesses: [11, 22, 31, 41, 50, 58, 67, 74, 80, 85, 90, 94, 97, 99, 100], avg: 10.52, max: 15\n",
      "Epoch 1000000: Guesses: [11, 22, 31, 42, 50, 58, 67, 74, 80, 85, 90, 94, 97, 99, 100], avg: 10.53, max: 15\n",
      "Epoch 1100000: Guesses: [15, 24, 33, 42, 50, 58, 67, 74, 80, 85, 90, 94, 97, 99, 100], avg: 10.57, max: 15\n",
      "Epoch 1200000: Guesses: [15, 24, 33, 42, 50, 58, 67, 74, 80, 85, 90, 94, 97, 99, 100], avg: 10.57, max: 15\n",
      "Epoch 1300000: Guesses: [15, 24, 33, 42, 50, 58, 67, 74, 80, 85, 90, 94, 97, 99, 100], avg: 10.57, max: 15\n",
      "Epoch 1400000: Guesses: [15, 24, 33, 42, 50, 58, 67, 74, 80, 85, 90, 94, 97, 99, 100], avg: 10.57, max: 15\n"
     ]
    }
   ],
   "source": [
    "lr = 0.9 # learning rate (decays over time)\n",
    "discount = 0.99\n",
    "p_explore = 0.99 # probability of exploring vs exploiting\n",
    "training_loops = 1_500_000\n",
    "\n",
    "state_dict = {i: [0 for j in range(i+1, 101)] for i in range(100)}\n",
    "\n",
    "for epoch in range(training_loops):\n",
    "    \n",
    "    if epoch != 0 and epoch % 100_000 == 0:\n",
    "        # Every 100,000 epochs print metrics for current state\n",
    "        guesses = []\n",
    "        guess = 0\n",
    "        while guess < 100:\n",
    "            best_idx, _ = max(enumerate(state_dict[guess]), key=lambda x: x[1])\n",
    "            guess = guess + best_idx + 1\n",
    "            guesses.append(guess)\n",
    "            \n",
    "        print(f\"Epoch {epoch}:\", end=\" \") \n",
    "        print_metrics(guesses)\n",
    "\n",
    "        # decay explore and learning rate params\n",
    "        p_explore *= 0.5\n",
    "        lr *= 0.7\n",
    "        \n",
    "        \n",
    "    magic_floor = random.randint(1, 100)\n",
    "    prev_guess = 0\n",
    "    done = False\n",
    "    \n",
    "    while not done:\n",
    "        if random.random() < p_explore:\n",
    "            next_guess = random.randint(prev_guess+1, 100)\n",
    "        else:\n",
    "            best_idx, _ = max(enumerate(state_dict[prev_guess]), key=lambda x: x[1])\n",
    "            next_guess = prev_guess + best_idx + 1\n",
    "\n",
    "        done = next_guess > magic_floor or next_guess == 100\n",
    "\n",
    "        learned_val = 100 - next_guess + magic_floor if done else discount * max(state_dict[next_guess])\n",
    "\n",
    "        state_dict[prev_guess][next_guess-prev_guess-1] = (1-lr) * state_dict[prev_guess][next_guess-prev_guess-1] + lr * learned_val\n",
    "\n",
    "        prev_guess = next_guess"
   ]
  },
  {
   "cell_type": "code",
   "execution_count": null,
   "id": "46f695cf-006d-4783-934f-3e3996dd1741",
   "metadata": {},
   "outputs": [],
   "source": []
  },
  {
   "cell_type": "code",
   "execution_count": null,
   "id": "d5630862-d8c0-40a8-ae58-ab5944c7e7b1",
   "metadata": {},
   "outputs": [],
   "source": []
  },
  {
   "cell_type": "code",
   "execution_count": null,
   "id": "4263e251-566f-49b4-9d8b-858ccec02a8b",
   "metadata": {},
   "outputs": [],
   "source": []
  }
 ],
 "metadata": {
  "kernelspec": {
   "display_name": "Python 3 (ipykernel)",
   "language": "python",
   "name": "python3"
  },
  "language_info": {
   "codemirror_mode": {
    "name": "ipython",
    "version": 3
   },
   "file_extension": ".py",
   "mimetype": "text/x-python",
   "name": "python",
   "nbconvert_exporter": "python",
   "pygments_lexer": "ipython3",
   "version": "3.11.5"
  }
 },
 "nbformat": 4,
 "nbformat_minor": 5
}
